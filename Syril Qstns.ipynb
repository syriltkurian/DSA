{
 "cells": [
  {
   "cell_type": "markdown",
   "id": "1b1a2ed2",
   "metadata": {},
   "source": [
    "# 2. Write a program to count the number of each characters in a string\n"
   ]
  },
  {
   "cell_type": "code",
   "execution_count": 2,
   "id": "4747e56e",
   "metadata": {},
   "outputs": [
    {
     "name": "stdout",
     "output_type": "stream",
     "text": [
      "enter the string: ILLUMINATTI\n",
      "The Character Count in:  ILLUMINATTI is:  {'I': 3, 'L': 2, 'U': 1, 'M': 1, 'N': 1, 'A': 1, 'T': 2}\n"
     ]
    }
   ],
   "source": [
    "freq = {}\n",
    "char = str(input(\"enter the string: \"))\n",
    "for i in char:\n",
    "    if i in freq:\n",
    "        freq[i]+=1\n",
    "    else:\n",
    "        freq[i]=1\n",
    "\n",
    "print(\"The Character Count in: \", char, \"is: \", str(freq))"
   ]
  },
  {
   "cell_type": "code",
   "execution_count": null,
   "id": "1c458857",
   "metadata": {},
   "outputs": [],
   "source": []
  },
  {
   "cell_type": "code",
   "execution_count": null,
   "id": "f3693b8e",
   "metadata": {},
   "outputs": [],
   "source": []
  },
  {
   "cell_type": "markdown",
   "id": "98c06188",
   "metadata": {},
   "source": [
    "# 3. Write a program to find the area and perimeter of a rectangle using functions"
   ]
  },
  {
   "cell_type": "code",
   "execution_count": 1,
   "id": "eeecfe00",
   "metadata": {},
   "outputs": [
    {
     "name": "stdout",
     "output_type": "stream",
     "text": [
      "enter the lenght: 5\n",
      "enter the width: 5\n",
      "Area of rectangle:  25.0\n",
      "Perimeter of rectangle:  20.0\n"
     ]
    }
   ],
   "source": [
    "def area(x,y):\n",
    "    area = x*y\n",
    "    return area\n",
    "def perimeter(x,y):\n",
    "    perimeter = 2*(x+y)\n",
    "    return perimeter\n",
    "\n",
    "l = float(input(\"enter the lenght: \"))\n",
    "w = float(input(\"enter the width: \"))\n",
    "ar = area(l,w)\n",
    "per = perimeter(l,w)\n",
    "\n",
    "print(\"Area of rectangle: \", ar)\n",
    "print(\"Perimeter of rectangle: \", per)"
   ]
  },
  {
   "cell_type": "code",
   "execution_count": null,
   "id": "5392c7cd",
   "metadata": {},
   "outputs": [],
   "source": []
  },
  {
   "cell_type": "code",
   "execution_count": null,
   "id": "2ba60502",
   "metadata": {},
   "outputs": [],
   "source": []
  },
  {
   "cell_type": "code",
   "execution_count": null,
   "id": "983c812a",
   "metadata": {},
   "outputs": [],
   "source": []
  }
 ],
 "metadata": {
  "kernelspec": {
   "display_name": "Python 3",
   "language": "python",
   "name": "python3"
  },
  "language_info": {
   "codemirror_mode": {
    "name": "ipython",
    "version": 3
   },
   "file_extension": ".py",
   "mimetype": "text/x-python",
   "name": "python",
   "nbconvert_exporter": "python",
   "pygments_lexer": "ipython3",
   "version": "3.8.8"
  }
 },
 "nbformat": 4,
 "nbformat_minor": 5
}
